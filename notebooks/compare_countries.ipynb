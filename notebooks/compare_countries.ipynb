{
 "cells": [
  {
   "cell_type": "code",
   "execution_count": 5,
   "id": "6b36a850",
   "metadata": {},
   "outputs": [],
   "source": [
    "import pandas as pd\n",
    "import seaborn as sns\n",
    "import matplotlib.pyplot as plt\n",
    "from scipy.stats import f_oneway, kruskal\n",
    "\n",
    "# --- Plot Style ---\n",
    "sns.set(style=\"whitegrid\")\n",
    "%matplotlib inline"
   ]
  },
  {
   "cell_type": "markdown",
   "id": "9f2f495e",
   "metadata": {},
   "source": [
    "Load Cleaned Datasets"
   ]
  },
  {
   "cell_type": "code",
   "execution_count": 6,
   "id": "aa3b0f62",
   "metadata": {},
   "outputs": [
    {
     "data": {
      "text/html": [
       "<div>\n",
       "<style scoped>\n",
       "    .dataframe tbody tr th:only-of-type {\n",
       "        vertical-align: middle;\n",
       "    }\n",
       "\n",
       "    .dataframe tbody tr th {\n",
       "        vertical-align: top;\n",
       "    }\n",
       "\n",
       "    .dataframe thead th {\n",
       "        text-align: right;\n",
       "    }\n",
       "</style>\n",
       "<table border=\"1\" class=\"dataframe\">\n",
       "  <thead>\n",
       "    <tr style=\"text-align: right;\">\n",
       "      <th></th>\n",
       "      <th>Timestamp</th>\n",
       "      <th>GHI</th>\n",
       "      <th>DNI</th>\n",
       "      <th>DHI</th>\n",
       "      <th>ModA</th>\n",
       "      <th>ModB</th>\n",
       "      <th>Tamb</th>\n",
       "      <th>RH</th>\n",
       "      <th>WS</th>\n",
       "      <th>WSgust</th>\n",
       "      <th>WSstdev</th>\n",
       "      <th>WD</th>\n",
       "      <th>WDstdev</th>\n",
       "      <th>BP</th>\n",
       "      <th>Cleaning</th>\n",
       "      <th>Precipitation</th>\n",
       "      <th>TModA</th>\n",
       "      <th>TModB</th>\n",
       "      <th>Country</th>\n",
       "      <th>GHIrsi</th>\n",
       "    </tr>\n",
       "  </thead>\n",
       "  <tbody>\n",
       "    <tr>\n",
       "      <th>0</th>\n",
       "      <td>2021-08-09 00:01:00</td>\n",
       "      <td>-1.2</td>\n",
       "      <td>-0.2</td>\n",
       "      <td>-1.1</td>\n",
       "      <td>0.0</td>\n",
       "      <td>0.0</td>\n",
       "      <td>26.2</td>\n",
       "      <td>93.4</td>\n",
       "      <td>0.0</td>\n",
       "      <td>0.4</td>\n",
       "      <td>0.1</td>\n",
       "      <td>122.1</td>\n",
       "      <td>0.0</td>\n",
       "      <td>998</td>\n",
       "      <td>0</td>\n",
       "      <td>0.0</td>\n",
       "      <td>26.3</td>\n",
       "      <td>26.2</td>\n",
       "      <td>Benin</td>\n",
       "      <td>NaN</td>\n",
       "    </tr>\n",
       "    <tr>\n",
       "      <th>1</th>\n",
       "      <td>2021-08-09 00:02:00</td>\n",
       "      <td>-1.1</td>\n",
       "      <td>-0.2</td>\n",
       "      <td>-1.1</td>\n",
       "      <td>0.0</td>\n",
       "      <td>0.0</td>\n",
       "      <td>26.2</td>\n",
       "      <td>93.6</td>\n",
       "      <td>0.0</td>\n",
       "      <td>0.0</td>\n",
       "      <td>0.0</td>\n",
       "      <td>0.0</td>\n",
       "      <td>0.0</td>\n",
       "      <td>998</td>\n",
       "      <td>0</td>\n",
       "      <td>0.0</td>\n",
       "      <td>26.3</td>\n",
       "      <td>26.2</td>\n",
       "      <td>Benin</td>\n",
       "      <td>NaN</td>\n",
       "    </tr>\n",
       "    <tr>\n",
       "      <th>2</th>\n",
       "      <td>2021-08-09 00:03:00</td>\n",
       "      <td>-1.1</td>\n",
       "      <td>-0.2</td>\n",
       "      <td>-1.1</td>\n",
       "      <td>0.0</td>\n",
       "      <td>0.0</td>\n",
       "      <td>26.2</td>\n",
       "      <td>93.7</td>\n",
       "      <td>0.3</td>\n",
       "      <td>1.1</td>\n",
       "      <td>0.5</td>\n",
       "      <td>124.6</td>\n",
       "      <td>1.5</td>\n",
       "      <td>997</td>\n",
       "      <td>0</td>\n",
       "      <td>0.0</td>\n",
       "      <td>26.4</td>\n",
       "      <td>26.2</td>\n",
       "      <td>Benin</td>\n",
       "      <td>NaN</td>\n",
       "    </tr>\n",
       "    <tr>\n",
       "      <th>3</th>\n",
       "      <td>2021-08-09 00:04:00</td>\n",
       "      <td>-1.1</td>\n",
       "      <td>-0.1</td>\n",
       "      <td>-1.0</td>\n",
       "      <td>0.0</td>\n",
       "      <td>0.0</td>\n",
       "      <td>26.2</td>\n",
       "      <td>93.3</td>\n",
       "      <td>0.2</td>\n",
       "      <td>0.7</td>\n",
       "      <td>0.4</td>\n",
       "      <td>120.3</td>\n",
       "      <td>1.3</td>\n",
       "      <td>997</td>\n",
       "      <td>0</td>\n",
       "      <td>0.0</td>\n",
       "      <td>26.4</td>\n",
       "      <td>26.3</td>\n",
       "      <td>Benin</td>\n",
       "      <td>NaN</td>\n",
       "    </tr>\n",
       "    <tr>\n",
       "      <th>4</th>\n",
       "      <td>2021-08-09 00:05:00</td>\n",
       "      <td>-1.0</td>\n",
       "      <td>-0.1</td>\n",
       "      <td>-1.0</td>\n",
       "      <td>0.0</td>\n",
       "      <td>0.0</td>\n",
       "      <td>26.2</td>\n",
       "      <td>93.3</td>\n",
       "      <td>0.1</td>\n",
       "      <td>0.7</td>\n",
       "      <td>0.3</td>\n",
       "      <td>113.2</td>\n",
       "      <td>1.0</td>\n",
       "      <td>997</td>\n",
       "      <td>0</td>\n",
       "      <td>0.0</td>\n",
       "      <td>26.4</td>\n",
       "      <td>26.3</td>\n",
       "      <td>Benin</td>\n",
       "      <td>NaN</td>\n",
       "    </tr>\n",
       "  </tbody>\n",
       "</table>\n",
       "</div>"
      ],
      "text/plain": [
       "             Timestamp  GHI  DNI  DHI  ModA  ModB  Tamb    RH   WS  WSgust  \\\n",
       "0  2021-08-09 00:01:00 -1.2 -0.2 -1.1   0.0   0.0  26.2  93.4  0.0     0.4   \n",
       "1  2021-08-09 00:02:00 -1.1 -0.2 -1.1   0.0   0.0  26.2  93.6  0.0     0.0   \n",
       "2  2021-08-09 00:03:00 -1.1 -0.2 -1.1   0.0   0.0  26.2  93.7  0.3     1.1   \n",
       "3  2021-08-09 00:04:00 -1.1 -0.1 -1.0   0.0   0.0  26.2  93.3  0.2     0.7   \n",
       "4  2021-08-09 00:05:00 -1.0 -0.1 -1.0   0.0   0.0  26.2  93.3  0.1     0.7   \n",
       "\n",
       "   WSstdev     WD  WDstdev   BP  Cleaning  Precipitation  TModA  TModB  \\\n",
       "0      0.1  122.1      0.0  998         0            0.0   26.3   26.2   \n",
       "1      0.0    0.0      0.0  998         0            0.0   26.3   26.2   \n",
       "2      0.5  124.6      1.5  997         0            0.0   26.4   26.2   \n",
       "3      0.4  120.3      1.3  997         0            0.0   26.4   26.3   \n",
       "4      0.3  113.2      1.0  997         0            0.0   26.4   26.3   \n",
       "\n",
       "  Country  GHIrsi  \n",
       "0   Benin     NaN  \n",
       "1   Benin     NaN  \n",
       "2   Benin     NaN  \n",
       "3   Benin     NaN  \n",
       "4   Benin     NaN  "
      ]
     },
     "execution_count": 6,
     "metadata": {},
     "output_type": "execute_result"
    }
   ],
   "source": [
    "# Load the cleaned datasets\n",
    "benin = pd.read_csv(\"./data/benin_clean.csv\")\n",
    "sierra_leone = pd.read_csv(\"./data/sierraleone_clean.csv\")\n",
    "togo = pd.read_csv(\"./data/togo_clean.csv\")\n",
    "\n",
    "# Add a column to identify each country\n",
    "benin[\"Country\"] = \"Benin\"\n",
    "sierra_leone[\"Country\"] = \"Sierra Leone\"\n",
    "togo[\"Country\"] = \"Togo\"\n",
    "\n",
    "# Combine all datasets\n",
    "df = pd.concat([benin, sierra_leone, togo], ignore_index=True)\n",
    "\n",
    "df.head()"
   ]
  },
  {
   "cell_type": "markdown",
   "id": "192523cf",
   "metadata": {},
   "source": [
    "Boxplots for Each Metric (GHI, DNI, DHI)"
   ]
  },
  {
   "cell_type": "code",
   "execution_count": 7,
   "id": "bf7ff405",
   "metadata": {},
   "outputs": [
    {
     "name": "stderr",
     "output_type": "stream",
     "text": [
      "C:\\Users\\Tinsae D.D\\AppData\\Local\\Temp\\ipykernel_12516\\2377468391.py:5: FutureWarning: \n",
      "\n",
      "Passing `palette` without assigning `hue` is deprecated and will be removed in v0.14.0. Assign the `x` variable to `hue` and set `legend=False` for the same effect.\n",
      "\n",
      "  sns.boxplot(x=\"Country\", y=metric, data=df, palette=\"Set2\")\n"
     ]
    },
    {
     "data": {
      "image/png": "[encoded data removed]",
      "text/plain": [
       "<Figure size 800x500 with 1 Axes>"
      ]
     },
     "metadata": {},
     "output_type": "display_data"
    },
    {
     "name": "stderr",
     "output_type": "stream",
     "text": [
      "C:\\Users\\Tinsae D.D\\AppData\\Local\\Temp\\ipykernel_12516\\2377468391.py:5: FutureWarning: \n",
      "\n",
      "Passing `palette` without assigning `hue` is deprecated and will be removed in v0.14.0. Assign the `x` variable to `hue` and set `legend=False` for the same effect.\n",
      "\n",
      "  sns.boxplot(x=\"Country\", y=metric, data=df, palette=\"Set2\")\n"
     ]
    },
    {
     "data": {
      "image/png": "[encoded data removed]",
      "text/plain": [
       "<Figure size 800x500 with 1 Axes>"
      ]
     },
     "metadata": {},
     "output_type": "display_data"
    },
    {
     "name": "stderr",
     "output_type": "stream",
     "text": [
      "C:\\Users\\Tinsae D.D\\AppData\\Local\\Temp\\ipykernel_12516\\2377468391.py:5: FutureWarning: \n",
      "\n",
      "Passing `palette` without assigning `hue` is deprecated and will be removed in v0.14.0. Assign the `x` variable to `hue` and set `legend=False` for the same effect.\n",
      "\n",
      "  sns.boxplot(x=\"Country\", y=metric, data=df, palette=\"Set2\")\n"
     ]
    },
    {
     "data": {
      "image/png": "[encoded data removed]",
      "text/plain": [
       "<Figure size 800x500 with 1 Axes>"
      ]
     },
     "metadata": {},
     "output_type": "display_data"
    }
   ],
   "source": [
    "metrics = [\"GHI\", \"DNI\", \"DHI\"]\n",
    "\n",
    "for metric in metrics:\n",
    "    plt.figure(figsize=(8, 5))\n",
    "    sns.boxplot(x=\"Country\", y=metric, data=df, palette=\"Set2\")\n",
    "    plt.title(f\"{metric} Comparison Across Countries\")\n",
    "    plt.ylabel(metric)\n",
    "    plt.xlabel(\"Country\")\n",
    "    plt.tight_layout()\n",
    "    plt.show()"
   ]
  },
  {
   "cell_type": "markdown",
   "id": "4a394ce5",
   "metadata": {},
   "source": [
    "Summary Table – Mean, Median, Standard Deviation"
   ]
  },
  {
   "cell_type": "code",
   "execution_count": 8,
   "id": "3fed701a",
   "metadata": {},
   "outputs": [
    {
     "data": {
      "text/html": [
       "<div>\n",
       "<style scoped>\n",
       "    .dataframe tbody tr th:only-of-type {\n",
       "        vertical-align: middle;\n",
       "    }\n",
       "\n",
       "    .dataframe tbody tr th {\n",
       "        vertical-align: top;\n",
       "    }\n",
       "\n",
       "    .dataframe thead tr th {\n",
       "        text-align: left;\n",
       "    }\n",
       "\n",
       "    .dataframe thead tr:last-of-type th {\n",
       "        text-align: right;\n",
       "    }\n",
       "</style>\n",
       "<table border=\"1\" class=\"dataframe\">\n",
       "  <thead>\n",
       "    <tr>\n",
       "      <th></th>\n",
       "      <th colspan=\"3\" halign=\"left\">GHI</th>\n",
       "      <th colspan=\"3\" halign=\"left\">DNI</th>\n",
       "      <th colspan=\"3\" halign=\"left\">DHI</th>\n",
       "    </tr>\n",
       "    <tr>\n",
       "      <th></th>\n",
       "      <th>mean</th>\n",
       "      <th>median</th>\n",
       "      <th>std</th>\n",
       "      <th>mean</th>\n",
       "      <th>median</th>\n",
       "      <th>std</th>\n",
       "      <th>mean</th>\n",
       "      <th>median</th>\n",
       "      <th>std</th>\n",
       "    </tr>\n",
       "    <tr>\n",
       "      <th>Country</th>\n",
       "      <th></th>\n",
       "      <th></th>\n",
       "      <th></th>\n",
       "      <th></th>\n",
       "      <th></th>\n",
       "      <th></th>\n",
       "      <th></th>\n",
       "      <th></th>\n",
       "      <th></th>\n",
       "    </tr>\n",
       "  </thead>\n",
       "  <tbody>\n",
       "    <tr>\n",
       "      <th>Benin</th>\n",
       "      <td>240.56</td>\n",
       "      <td>1.8</td>\n",
       "      <td>331.13</td>\n",
       "      <td>167.19</td>\n",
       "      <td>-0.1</td>\n",
       "      <td>261.71</td>\n",
       "      <td>115.36</td>\n",
       "      <td>1.6</td>\n",
       "      <td>158.69</td>\n",
       "    </tr>\n",
       "    <tr>\n",
       "      <th>Sierra Leone</th>\n",
       "      <td>201.96</td>\n",
       "      <td>0.3</td>\n",
       "      <td>298.50</td>\n",
       "      <td>116.38</td>\n",
       "      <td>-0.1</td>\n",
       "      <td>218.65</td>\n",
       "      <td>113.72</td>\n",
       "      <td>-0.1</td>\n",
       "      <td>158.95</td>\n",
       "    </tr>\n",
       "    <tr>\n",
       "      <th>Togo</th>\n",
       "      <td>230.56</td>\n",
       "      <td>2.1</td>\n",
       "      <td>322.53</td>\n",
       "      <td>151.26</td>\n",
       "      <td>0.0</td>\n",
       "      <td>250.96</td>\n",
       "      <td>116.44</td>\n",
       "      <td>2.5</td>\n",
       "      <td>156.52</td>\n",
       "    </tr>\n",
       "  </tbody>\n",
       "</table>\n",
       "</div>"
      ],
      "text/plain": [
       "                 GHI                    DNI                    DHI         \\\n",
       "                mean median     std    mean median     std    mean median   \n",
       "Country                                                                     \n",
       "Benin         240.56    1.8  331.13  167.19   -0.1  261.71  115.36    1.6   \n",
       "Sierra Leone  201.96    0.3  298.50  116.38   -0.1  218.65  113.72   -0.1   \n",
       "Togo          230.56    2.1  322.53  151.26    0.0  250.96  116.44    2.5   \n",
       "\n",
       "                      \n",
       "                 std  \n",
       "Country               \n",
       "Benin         158.69  \n",
       "Sierra Leone  158.95  \n",
       "Togo          156.52  "
      ]
     },
     "execution_count": 8,
     "metadata": {},
     "output_type": "execute_result"
    }
   ],
   "source": [
    "summary = df.groupby(\"Country\")[[\"GHI\", \"DNI\", \"DHI\"]].agg([\"mean\", \"median\", \"std\"]).round(2)\n",
    "summary"
   ]
  },
  {
   "cell_type": "markdown",
   "id": "20c0a079",
   "metadata": {},
   "source": [
    "Statistical Test: One-Way ANOVA or Kruskal-Wallis"
   ]
  },
  {
   "cell_type": "code",
   "execution_count": 9,
   "id": "ede0f4be",
   "metadata": {},
   "outputs": [
    {
     "name": "stdout",
     "output_type": "stream",
     "text": [
      "One-way ANOVA p-value: 0.0\n",
      "Kruskal–Wallis p-value: 0.0\n"
     ]
    }
   ],
   "source": [
    "# Extract GHI values per country\n",
    "ghi_benin = benin[\"GHI\"]\n",
    "ghi_sierra = sierra_leone[\"GHI\"]\n",
    "ghi_togo = togo[\"GHI\"]\n",
    "\n",
    "# One-Way ANOVA (assumes normality and equal variances)\n",
    "anova_result = f_oneway(ghi_benin, ghi_sierra, ghi_togo)\n",
    "\n",
    "# Kruskal-Wallis (non-parametric alternative)\n",
    "kruskal_result = kruskal(ghi_benin, ghi_sierra, ghi_togo)\n",
    "\n",
    "print(\"One-way ANOVA p-value:\", anova_result.pvalue)\n",
    "print(\"Kruskal–Wallis p-value:\", kruskal_result.pvalue)"
   ]
  },
  {
   "cell_type": "markdown",
   "id": "17101dc5",
   "metadata": {},
   "source": [
    "Key Observations\n",
    "\n",
    "1, Benin exhibits the highest mean GHI (240.56), but also shows the largest variability (standard deviation of 331.13), suggesting inconsistent solar irradiance that may affect solar energy reliability.\n",
    "\n",
    "2, Sierra Leone shows the lowest GHI and DNI values (mean GHI: 201.96, mean DNI: 116.38), which could indicate lower solar energy potential compared to Benin and Togo.\n",
    "\n",
    "3, Both ANOVA and Kruskal-Wallis tests show p-values of 0.0, confirming that the differences in GHI across countries are statistically significant.\n",
    "\n",
    "4, **Togo** has the highest median GHI (2.1) and the highest median DNI (0.0) among the three countries, with a relatively lower standard deviation in GHI and DNI than Benin. This suggests a more stable and predictable solar resource, making it a potentially better candidate for consistent solar panel performance.\n",
    "Since Togo has Reliable Performance Potential Which is High and stable DHI and DNI values suggest balanced diffuse and direct sunlight, which is beneficial for both PV and CSP technologies It is best for a solar farm investment.."
   ]
  },
  {
   "cell_type": "markdown",
   "id": "07895712",
   "metadata": {},
   "source": [
    "(optional)Bar Chart of Average GHI per Country"
   ]
  },
  {
   "cell_type": "code",
   "execution_count": 10,
   "id": "325eeb58",
   "metadata": {},
   "outputs": [
    {
     "name": "stderr",
     "output_type": "stream",
     "text": [
      "C:\\Users\\Tinsae D.D\\AppData\\Local\\Temp\\ipykernel_12516\\1082681981.py:6: FutureWarning: \n",
      "\n",
      "Passing `palette` without assigning `hue` is deprecated and will be removed in v0.14.0. Assign the `x` variable to `hue` and set `legend=False` for the same effect.\n",
      "\n",
      "  sns.barplot(x=avg_ghi.index, y=avg_ghi.values, palette=\"coolwarm\")\n"
     ]
    },
    {
     "data": {
      "image/png": "[encoded data removed]",
      "text/plain": [
       "<Figure size 600x400 with 1 Axes>"
      ]
     },
     "metadata": {},
     "output_type": "display_data"
    }
   ],
   "source": [
    "# Calculate average GHI\n",
    "avg_ghi = df.groupby(\"Country\")[\"GHI\"].mean().sort_values(ascending=False)\n",
    "\n",
    "# Plot\n",
    "plt.figure(figsize=(6, 4))\n",
    "sns.barplot(x=avg_ghi.index, y=avg_ghi.values, palette=\"coolwarm\")\n",
    "plt.title(\"Average GHI by Country\")\n",
    "plt.ylabel(\"Average GHI\")\n",
    "plt.xlabel(\"Country\")\n",
    "plt.tight_layout()\n",
    "plt.show()"
   ]
  }
 ],
 "metadata": {
  "kernelspec": {
   "display_name": "venv",
   "language": "python",
   "name": "python3"
  },
  "language_info": {
   "codemirror_mode": {
    "name": "ipython",
    "version": 3
   },
   "file_extension": ".py",
   "mimetype": "text/x-python",
   "name": "python",
   "nbconvert_exporter": "python",
   "pygments_lexer": "ipython3",
   "version": "3.13.3"
  }
 },
 "nbformat": 4,
 "nbformat_minor": 5
}
